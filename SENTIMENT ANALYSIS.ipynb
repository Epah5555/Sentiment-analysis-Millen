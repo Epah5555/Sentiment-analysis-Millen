{
 "cells": [
  {
   "cell_type": "code",
   "execution_count": 2,
   "id": "c5258ff8",
   "metadata": {},
   "outputs": [
    {
     "ename": "SyntaxError",
     "evalue": "invalid syntax (1680273964.py, line 3)",
     "output_type": "error",
     "traceback": [
      "\u001b[1;36m  Cell \u001b[1;32mIn[2], line 3\u001b[1;36m\u001b[0m\n\u001b[1;33m    pip install SpeechRecognition\u001b[0m\n\u001b[1;37m        ^\u001b[0m\n\u001b[1;31mSyntaxError\u001b[0m\u001b[1;31m:\u001b[0m invalid syntax\n"
     ]
    }
   ],
   "source": [
    "import nltk\n",
    "from nltk.sentiment.vader import SentimentIntensityAnalyzer\n",
    "\n",
    "import speech_recognition as sr\n",
    "\n",
    "# Download VADER lexicon\n",
    "nltk.download('vader_lexicon')\n",
    "\n",
    "# Load VADER Sentiment Analyzer\n",
    "sid = SentimentIntensityAnalyzer()\n",
    "\n",
    "# Function to analyze text sentiment\n",
    "def analyze_text_sentiment(text):\n",
    "    sentiment_scores = sid.polarity_scores(text)\n",
    "    if sentiment_scores['compound'] >= 0.05:\n",
    "        return 'Positive'\n",
    "    elif sentiment_scores['compound'] <= -0.05:\n",
    "        return 'Negative'\n",
    "    else:\n",
    "        return 'Neutral'\n",
    "\n",
    "# Function to convert speech to text\n",
    "def speech_to_text():\n",
    "    recognizer = sr.Recognizer()\n",
    "    with sr.Microphone() as source:\n",
    "        print(\"Listening...\")\n",
    "        recognizer.adjust_for_ambient_noise(source)\n",
    "        audio = recognizer.listen(source)\n",
    "\n",
    "    try:\n",
    "        print(\"Recognizing...\")\n",
    "        text = recognizer.recognize_google(audio)\n",
    "        print(\"Speech recognized:\", text)\n",
    "        return text\n",
    "    except sr.UnknownValueError:\n",
    "        print(\"Could not understand audio\")\n",
    "        return \"\"\n",
    "    except sr.RequestError as e:\n",
    "        print(\"Could not request results; {0}\".format(e))\n",
    "        return \"\"\n",
    "\n",
    "# Main function for sentiment analysis on both text and speech inputs\n",
    "def main():\n",
    "    choice = input(\"Choose input method: \\n1. Text\\n2. Speech\\nEnter choice (1/2): \")\n",
    "\n",
    "    if choice == '1':\n",
    "        text_input = input(\"Enter the text: \")\n",
    "        sentiment = analyze_text_sentiment(text_input)\n",
    "        print(\"Sentiment:\", sentiment)\n",
    "    elif choice == '2':\n",
    "        speech_input = speech_to_text()\n",
    "        if speech_input:\n",
    "            sentiment = analyze_text_sentiment(speech_input)\n",
    "            print(\"Sentiment:\", sentiment)\n",
    "        else:\n",
    "            print(\"Unable to recognize speech. Please try again.\")\n",
    "    else:\n",
    "        print(\"Invalid choice\")\n",
    "\n",
    "if __name__ == \"__main__\":\n",
    "    main()\n"
   ]
  },
  {
   "cell_type": "code",
   "execution_count": null,
   "id": "c56efa3f",
   "metadata": {},
   "outputs": [],
   "source": [
    "\n",
    "pip install SpeechRecognition"
   ]
  },
  {
   "cell_type": "code",
   "execution_count": null,
   "id": "64026597",
   "metadata": {},
   "outputs": [],
   "source": [
    "import nltk\n",
    "from nltk.sentiment.vader import SentimentIntensityAnalyzer\n",
    "import speech_recognition as sr"
   ]
  },
  {
   "cell_type": "code",
   "execution_count": null,
   "id": "240d1f29",
   "metadata": {},
   "outputs": [],
   "source": [
    "# Download VADER lexicon\n",
    "nltk.download('vader_lexicon')"
   ]
  },
  {
   "cell_type": "code",
   "execution_count": null,
   "id": "d4443fb8",
   "metadata": {},
   "outputs": [],
   "source": [
    "# Load VADER Sentiment Analyzer\n",
    "sid = SentimentIntensityAnalyzer()"
   ]
  },
  {
   "cell_type": "code",
   "execution_count": null,
   "id": "c94728c5",
   "metadata": {},
   "outputs": [],
   "source": [
    "# Function to analyze text sentiment\n",
    "def analyze_text_sentiment(text):\n",
    "    sentiment_scores = sid.polarity_scores(text)\n",
    "    if sentiment_scores['compound'] >= 0.05:\n",
    "        return 'Positive'\n",
    "    elif sentiment_scores['compound'] <= -0.05:\n",
    "        return 'Negative'\n",
    "    else:\n",
    "        return 'Neutral'"
   ]
  },
  {
   "cell_type": "code",
   "execution_count": null,
   "id": "b760d813",
   "metadata": {},
   "outputs": [],
   "source": [
    "# Function to convert speech to text\n",
    "def speech_to_text():\n",
    "    recognizer = sr.Recognizer()\n",
    "    with sr.Microphone() as source:\n",
    "        print(\"Listening...\")\n",
    "        recognizer.adjust_for_ambient_noise(source)\n",
    "        audio = recognizer.listen(source)\n",
    "\n",
    "    try:\n",
    "        print(\"Recognizing...\")\n",
    "        text = recognizer.recognize_google(audio)\n",
    "        print(\"Speech recognized:\", text)\n",
    "        return text\n",
    "    except sr.UnknownValueError:\n",
    "        print(\"Could not understand audio\")\n",
    "        return \"\"\n",
    "    except sr.RequestError as e:\n",
    "        print(\"Could not request results; {0}\".format(e))\n",
    "        return \"\""
   ]
  },
  {
   "cell_type": "code",
   "execution_count": 3,
   "id": "9e8f6203",
   "metadata": {},
   "outputs": [
    {
     "name": "stdout",
     "output_type": "stream",
     "text": [
      "Choose input method: \n",
      "1. Text\n",
      "2. Speech\n",
      "Enter choice (1/2): 1\n",
      "Enter the text: i hate school\n"
     ]
    },
    {
     "ename": "NameError",
     "evalue": "name 'analyze_text_sentiment' is not defined",
     "output_type": "error",
     "traceback": [
      "\u001b[1;31m---------------------------------------------------------------------------\u001b[0m",
      "\u001b[1;31mNameError\u001b[0m                                 Traceback (most recent call last)",
      "Cell \u001b[1;32mIn[3], line 20\u001b[0m\n\u001b[0;32m     17\u001b[0m         \u001b[38;5;28mprint\u001b[39m(\u001b[38;5;124m\"\u001b[39m\u001b[38;5;124mInvalid choice\u001b[39m\u001b[38;5;124m\"\u001b[39m)\n\u001b[0;32m     19\u001b[0m \u001b[38;5;28;01mif\u001b[39;00m \u001b[38;5;18m__name__\u001b[39m \u001b[38;5;241m==\u001b[39m \u001b[38;5;124m\"\u001b[39m\u001b[38;5;124m__main__\u001b[39m\u001b[38;5;124m\"\u001b[39m:\n\u001b[1;32m---> 20\u001b[0m     main()\n",
      "Cell \u001b[1;32mIn[3], line 7\u001b[0m, in \u001b[0;36mmain\u001b[1;34m()\u001b[0m\n\u001b[0;32m      5\u001b[0m \u001b[38;5;28;01mif\u001b[39;00m choice \u001b[38;5;241m==\u001b[39m \u001b[38;5;124m'\u001b[39m\u001b[38;5;124m1\u001b[39m\u001b[38;5;124m'\u001b[39m:\n\u001b[0;32m      6\u001b[0m     text_input \u001b[38;5;241m=\u001b[39m \u001b[38;5;28minput\u001b[39m(\u001b[38;5;124m\"\u001b[39m\u001b[38;5;124mEnter the text: \u001b[39m\u001b[38;5;124m\"\u001b[39m)\n\u001b[1;32m----> 7\u001b[0m     sentiment \u001b[38;5;241m=\u001b[39m analyze_text_sentiment(text_input)\n\u001b[0;32m      8\u001b[0m     \u001b[38;5;28mprint\u001b[39m(\u001b[38;5;124m\"\u001b[39m\u001b[38;5;124mSentiment:\u001b[39m\u001b[38;5;124m\"\u001b[39m, sentiment)\n\u001b[0;32m      9\u001b[0m \u001b[38;5;28;01melif\u001b[39;00m choice \u001b[38;5;241m==\u001b[39m \u001b[38;5;124m'\u001b[39m\u001b[38;5;124m2\u001b[39m\u001b[38;5;124m'\u001b[39m:\n",
      "\u001b[1;31mNameError\u001b[0m: name 'analyze_text_sentiment' is not defined"
     ]
    }
   ],
   "source": [
    "# Main function for sentiment analysis on both text and speech inputs\n",
    "def main():\n",
    "    choice = input(\"Choose input method: \\n1. Text\\n2. Speech\\nEnter choice (1/2): \")\n",
    "\n",
    "    if choice == '1':\n",
    "        text_input = input(\"Enter the text: \")\n",
    "        sentiment = analyze_text_sentiment(text_input)\n",
    "        print(\"Sentiment:\", sentiment)\n",
    "    elif choice == '2':\n",
    "        speech_input = speech_to_text()\n",
    "        if speech_input:\n",
    "            sentiment = analyze_text_sentiment(speech_input)\n",
    "            print(\"Sentiment:\", sentiment)\n",
    "        else:\n",
    "            print(\"Unable to recognize speech. Please try again.\")\n",
    "    else:\n",
    "        print(\"Invalid choice\")\n",
    "\n",
    "if __name__ == \"__main__\":\n",
    "    main()"
   ]
  },
  {
   "cell_type": "code",
   "execution_count": 13,
   "id": "6f0ad93b",
   "metadata": {},
   "outputs": [
    {
     "name": "stdout",
     "output_type": "stream",
     "text": [
      "Collecting pyaudioNote: you may need to restart the kernel to use updated packages.\n",
      "\n",
      "  Obtaining dependency information for pyaudio from https://files.pythonhosted.org/packages/82/d8/f043c854aad450a76e476b0cf9cda1956419e1dacf1062eb9df3c0055abe/PyAudio-0.2.14-cp311-cp311-win_amd64.whl.metadata\n",
      "  Downloading PyAudio-0.2.14-cp311-cp311-win_amd64.whl.metadata (2.7 kB)\n",
      "Downloading PyAudio-0.2.14-cp311-cp311-win_amd64.whl (164 kB)\n",
      "   ---------------------------------------- 0.0/164.1 kB ? eta -:--:--\n",
      "   -- ------------------------------------- 10.2/164.1 kB ? eta -:--:--\n",
      "   -- ------------------------------------- 10.2/164.1 kB ? eta -:--:--\n",
      "   -- ------------------------------------- 10.2/164.1 kB ? eta -:--:--\n",
      "   -- ------------------------------------- 10.2/164.1 kB ? eta -:--:--\n",
      "   -- ------------------------------------- 10.2/164.1 kB ? eta -:--:--\n",
      "   --------- ----------------------------- 41.0/164.1 kB 131.3 kB/s eta 0:00:01\n",
      "   -------------- ------------------------ 61.4/164.1 kB 204.8 kB/s eta 0:00:01\n",
      "   -------------- ------------------------ 61.4/164.1 kB 204.8 kB/s eta 0:00:01\n",
      "   ------------------- ------------------- 81.9/164.1 kB 199.7 kB/s eta 0:00:01\n",
      "   ------------------- ------------------- 81.9/164.1 kB 199.7 kB/s eta 0:00:01\n",
      "   --------------------- ----------------- 92.2/164.1 kB 187.0 kB/s eta 0:00:01\n",
      "   -------------------------- ----------- 112.6/164.1 kB 198.4 kB/s eta 0:00:01\n",
      "   -------------------------- ----------- 112.6/164.1 kB 198.4 kB/s eta 0:00:01\n",
      "   ---------------------------- --------- 122.9/164.1 kB 194.9 kB/s eta 0:00:01\n",
      "   --------------------------------- ---- 143.4/164.1 kB 202.9 kB/s eta 0:00:01\n",
      "   --------------------------------- ---- 143.4/164.1 kB 202.9 kB/s eta 0:00:01\n",
      "   --------------------------------- ---- 143.4/164.1 kB 202.9 kB/s eta 0:00:01\n",
      "   --------------------------------- ---- 143.4/164.1 kB 202.9 kB/s eta 0:00:01\n",
      "   -------------------------------------  163.8/164.1 kB 178.8 kB/s eta 0:00:01\n",
      "   -------------------------------------- 164.1/164.1 kB 179.1 kB/s eta 0:00:00\n",
      "Installing collected packages: pyaudio\n",
      "Successfully installed pyaudio-0.2.14\n"
     ]
    }
   ],
   "source": [
    "pip install pyaudio"
   ]
  },
  {
   "cell_type": "code",
   "execution_count": null,
   "id": "6411bb24",
   "metadata": {},
   "outputs": [],
   "source": []
  }
 ],
 "metadata": {
  "kernelspec": {
   "display_name": "Python 3 (ipykernel)",
   "language": "python",
   "name": "python3"
  },
  "language_info": {
   "codemirror_mode": {
    "name": "ipython",
    "version": 3
   },
   "file_extension": ".py",
   "mimetype": "text/x-python",
   "name": "python",
   "nbconvert_exporter": "python",
   "pygments_lexer": "ipython3",
   "version": "3.11.5"
  }
 },
 "nbformat": 4,
 "nbformat_minor": 5
}
