{
 "cells": [
  {
   "cell_type": "code",
   "execution_count": null,
   "id": "3ea45366",
   "metadata": {},
   "outputs": [],
   "source": [
    "import nltk\n",
    "from nltk.sentiment.vader import SentimentIntensityAnalyzer"
   ]
  },
  {
   "cell_type": "code",
   "execution_count": null,
   "id": "73a47348",
   "metadata": {},
   "outputs": [],
   "source": [
    "\n",
    "# Install SpeechRecognition library\n",
    "import sys\n",
    "!{sys.executable} -m pip install SpeechRecognition\n"
   ]
  },
  {
   "cell_type": "code",
   "execution_count": null,
   "id": "f74be43a",
   "metadata": {},
   "outputs": [],
   "source": [
    "import speech_recognition as sr\n"
   ]
  },
  {
   "cell_type": "code",
   "execution_count": null,
   "id": "0b6747bc",
   "metadata": {},
   "outputs": [],
   "source": [
    "# Download VADER lexicon\n",
    "nltk.download('vader_lexicon')\n"
   ]
  },
  {
   "cell_type": "code",
   "execution_count": null,
   "id": "2cbb0e09",
   "metadata": {},
   "outputs": [],
   "source": [
    "# Load VADER Sentiment Analyzer\n",
    "sid= SentimentIntensityAnalyzer()\n"
   ]
  },
  {
   "cell_type": "code",
   "execution_count": null,
   "id": "e126c7c9",
   "metadata": {},
   "outputs": [],
   "source": [
    "# Function to analyze text sentiment\n",
    "def analyze_text_sentiment(text):\n",
    "    sentiment_scores = sid.polarity_scores(text)\n",
    "    if sentiment_scores['compound'] >= 0.05:\n",
    "        return 'Positive'\n",
    "    elif sentiment_scores['compound'] <= -0.05:\n",
    "        return 'Negative'\n",
    "    else:\n",
    "        return 'Neutral'"
   ]
  },
  {
   "cell_type": "code",
   "execution_count": null,
   "id": "6cea2eac",
   "metadata": {},
   "outputs": [],
   "source": [
    "\n",
    "# Function to convert speech to text\n",
    "def speech_to_text():\n",
    "    recognizer = sr.Recognizer()\n",
    "    with sr.Microphone() as source:\n",
    "        print(\"Listening...\")\n",
    "        recognizer.adjust_for_ambient_noise(source)\n",
    "        audio = recognizer.listen(source)\n",
    "\n",
    "    try:\n",
    "        print(\"Recognizing...\")\n",
    "        text = recognizer.recognize_google(audio)\n",
    "        print(\"Speech recognized:\", text)\n",
    "        return text\n",
    "    except sr.UnknownValueError:\n",
    "        print(\"Could not understand audio\")\n",
    "        return \"\"\n",
    "    except sr.RequestError as e:\n",
    "        print(\"Could not request results; {0}\".format(e))\n",
    "        return \"\""
   ]
  },
  {
   "cell_type": "code",
   "execution_count": null,
   "id": "3945cd13",
   "metadata": {},
   "outputs": [],
   "source": [
    "\n",
    "# Main function for sentiment analysis on both text and speech inputs\n",
    "def main():\n",
    "    choice = input(\"Choose input method: \\n1. Text\\n2. Speech\\nEnter choice (1/2): \")\n",
    "\n",
    "    if choice == '1':\n",
    "        text_input = input(\"Enter the text: \")\n",
    "        sentiment = analyze_text_sentiment(text_input)\n",
    "        print(\"Sentiment:\", sentiment)\n",
    "    elif choice == '2':\n",
    "        speech_input = speech_to_text()\n",
    "        if speech_input:\n",
    "            sentiment = analyze_text_sentiment(speech_input)\n",
    "            print(\"Sentiment:\", sentiment)\n",
    "        else:\n",
    "            print(\"Unable to recognize speech. Please try again.\")\n",
    "    else:\n",
    "        print(\"Invalid choice\")\n",
    "\n",
    "if __name__ == \"__main__\":\n",
    "    main()\n",
    "\n"
   ]
  },
  {
   "cell_type": "code",
   "execution_count": null,
   "id": "c6055f45",
   "metadata": {},
   "outputs": [],
   "source": []
  }
 ],
 "metadata": {
  "kernelspec": {
   "display_name": "Python 3 (ipykernel)",
   "language": "python",
   "name": "python3"
  },
  "language_info": {
   "codemirror_mode": {
    "name": "ipython",
    "version": 3
   },
   "file_extension": ".py",
   "mimetype": "text/x-python",
   "name": "python",
   "nbconvert_exporter": "python",
   "pygments_lexer": "ipython3",
   "version": "3.11.5"
  }
 },
 "nbformat": 4,
 "nbformat_minor": 5
}
